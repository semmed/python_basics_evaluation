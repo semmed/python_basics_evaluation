{
 "cells": [
  {
   "cell_type": "markdown",
   "metadata": {},
   "source": [
    "<a href=\"https://www.hydroffice.org/epom/\"><img src=\"images/000_000_epom_logo.png\" alt=\"ePOM\" title=\"Open ePOM home page\" align=\"center\" width=\"12%\" alt=\"Python logo\\\"></a>"
   ]
  },
  {
   "cell_type": "markdown",
   "metadata": {},
   "source": [
    "# Programming Basic with Python - Evaluation"
   ]
  },
  {
   "cell_type": "markdown",
   "metadata": {},
   "source": [
    "* This notebook is organized in several sections. \n",
    "\n",
    "* The code cells among different sections are independent, thus you do not need to complete all the cells in a section before moving to the next one.\n",
    "\n",
    "* You must work on your own. \n",
    "  * You are not allowed to interact with the other classmates. \n",
    "  * If you need clarifications about an exercise, ask the instructors.\n",
    "\n",
    "* You are allowed to access the [Programming Basics with Python](../python_basics/index.ipynb) notebooks that you completed during the past weeks."
   ]
  },
  {
   "cell_type": "markdown",
   "metadata": {},
   "source": [
    "---"
   ]
  },
  {
   "cell_type": "markdown",
   "metadata": {},
   "source": [
    "# Section 0"
   ]
  },
  {
   "cell_type": "markdown",
   "metadata": {},
   "source": [
    "Create and print a `city` variable containing your favorite city:"
   ]
  },
  {
   "cell_type": "code",
   "execution_count": 1,
   "metadata": {},
   "outputs": [
    {
     "name": "stdout",
     "output_type": "stream",
     "text": [
      "Amsterdam\n"
     ]
    }
   ],
   "source": [
    "city = 'Amsterdam'\n",
    "print(city)"
   ]
  },
  {
   "cell_type": "markdown",
   "metadata": {},
   "source": [
    "Assign the length of `city` to a `city_length` variable, then print the resulting value:"
   ]
  },
  {
   "cell_type": "code",
   "execution_count": 3,
   "metadata": {},
   "outputs": [
    {
     "name": "stdout",
     "output_type": "stream",
     "text": [
      "9\n"
     ]
    }
   ],
   "source": [
    "city_length = len(city)\n",
    "print(length)"
   ]
  },
  {
   "cell_type": "markdown",
   "metadata": {},
   "source": [
    "Use `city` and `city_length` to create a full `sentence` variable of your choice, then print the resulting string:"
   ]
  },
  {
   "cell_type": "code",
   "execution_count": 7,
   "metadata": {},
   "outputs": [
    {
     "name": "stdout",
     "output_type": "stream",
     "text": [
      "The city name Amsterdam contains 9 characters.\n"
     ]
    }
   ],
   "source": [
    "sentence = 'The city name ' + city + \\\n",
    "    ' contains ' + str(city_length) + ' characters.'\n",
    "print(sentence)"
   ]
  },
  {
   "cell_type": "markdown",
   "metadata": {},
   "source": [
    "Retrieve and print the type of the `sentence` variable:"
   ]
  },
  {
   "cell_type": "code",
   "execution_count": 8,
   "metadata": {},
   "outputs": [
    {
     "name": "stdout",
     "output_type": "stream",
     "text": [
      "<class 'str'>\n"
     ]
    }
   ],
   "source": [
    "print(type(sentence))"
   ]
  },
  {
   "cell_type": "markdown",
   "metadata": {},
   "source": [
    "***"
   ]
  },
  {
   "cell_type": "markdown",
   "metadata": {},
   "source": [
    "# Section 1"
   ]
  },
  {
   "cell_type": "markdown",
   "metadata": {},
   "source": [
    "Create two variables (`v0` and `v1`) with values `3.53` and `5`: "
   ]
  },
  {
   "cell_type": "code",
   "execution_count": 14,
   "metadata": {},
   "outputs": [],
   "source": [
    "v0 = 3.53\n",
    "v1 = 5"
   ]
  },
  {
   "cell_type": "markdown",
   "metadata": {},
   "source": [
    "Store the result of the multiplication of `v0` by `v1` in a variable named `v01_multi`, then print the resulting value with an accuracy of two decimal numbers:"
   ]
  },
  {
   "cell_type": "code",
   "execution_count": 15,
   "metadata": {},
   "outputs": [
    {
     "name": "stdout",
     "output_type": "stream",
     "text": [
      "17.65\n"
     ]
    }
   ],
   "source": [
    "v01_multi = v0 * v1\n",
    "print('%.2f'%v01_multi)"
   ]
  },
  {
   "cell_type": "markdown",
   "metadata": {},
   "source": [
    "Retrieve and print the types of the `v0`, `v1`, and `v01_multi` variables:"
   ]
  },
  {
   "cell_type": "code",
   "execution_count": 17,
   "metadata": {},
   "outputs": [
    {
     "name": "stdout",
     "output_type": "stream",
     "text": [
      "v0 is an <class 'float'>\n",
      "v1 is an <class 'int'>\n",
      "v01_multi is an <class 'float'>\n"
     ]
    }
   ],
   "source": [
    "print('v0 is an %s'%type(v0))\n",
    "print('v1 is an %s'%type(v1))\n",
    "print('v01_multi is an %s'%type(v01_multi))\n"
   ]
  },
  {
   "cell_type": "markdown",
   "metadata": {},
   "source": [
    "***"
   ]
  },
  {
   "cell_type": "markdown",
   "metadata": {},
   "source": [
    "# Section 2"
   ]
  },
  {
   "cell_type": "markdown",
   "metadata": {},
   "source": [
    "Create and print a `anchovies` list with the [commercial species of Anchovies](https://en.wikipedia.org/wiki/Anchovy#Commercial_species):"
   ]
  },
  {
   "cell_type": "code",
   "execution_count": 19,
   "metadata": {},
   "outputs": [],
   "source": [
    "anchovies = ['European anchovy', 'Argentine anchoita', 'Californian anchovy',\n",
    "             'Japanese anchovy', 'Peruvian anchoveta', 'Southern African anchovy']"
   ]
  },
  {
   "cell_type": "markdown",
   "metadata": {},
   "source": [
    "Print the number of species in the `anchovies` list:"
   ]
  },
  {
   "cell_type": "code",
   "execution_count": 20,
   "metadata": {},
   "outputs": [
    {
     "name": "stdout",
     "output_type": "stream",
     "text": [
      "6\n"
     ]
    }
   ],
   "source": [
    "print(len(anchovies))"
   ]
  },
  {
   "cell_type": "markdown",
   "metadata": {},
   "source": [
    "Count how many species of anchovies have `\"anchovy\"` as a component of the common name: "
   ]
  },
  {
   "cell_type": "code",
   "execution_count": 23,
   "metadata": {},
   "outputs": [
    {
     "name": "stdout",
     "output_type": "stream",
     "text": [
      "4\n"
     ]
    }
   ],
   "source": [
    "n = 0\n",
    "for a in anchovies:\n",
    "    if 'anchovy' in a:\n",
    "        n += 1\n",
    "print(n)"
   ]
  },
  {
   "cell_type": "markdown",
   "metadata": {},
   "source": [
    "***"
   ]
  },
  {
   "cell_type": "markdown",
   "metadata": {},
   "source": [
    "# Section 3"
   ]
  },
  {
   "cell_type": "markdown",
   "metadata": {},
   "source": [
    "Create and print a `shrimps` dictionary with common name (as keys) and scientific name (as values) for [commercial species of shrimps](https://en.wikipedia.org/wiki/Shrimp#Commercial_species):"
   ]
  },
  {
   "cell_type": "code",
   "execution_count": 26,
   "metadata": {},
   "outputs": [],
   "source": [
    "shrimps = {}\n",
    "shrimps['Whiteleg shrimp'] = 'Litopenaeus vannamei'\n",
    "shrimps['Giant tiger prawn '] = 'Penaeus monodon'\n",
    "shrimps['Akiami paste shrimp'] = 'shrimp Acetes japonicus'\n",
    "shrimps['Southern rough shrimp'] = 'Trachysalambria curvirostris'\n",
    "shrimps['Fleshy prawn'] = 'Fenneropenaeus chinensis'\n",
    "shrimps['Banana prawn' ] = 'Fenneropenaeus merguiensis '\n",
    "shrimps[' Northern prawn'] = 'Pandalus borealis'\n"
   ]
  },
  {
   "cell_type": "markdown",
   "metadata": {},
   "source": [
    "Create a `selected_shrimp` variable with the common name of a shrimp of your choice:"
   ]
  },
  {
   "cell_type": "code",
   "execution_count": 27,
   "metadata": {},
   "outputs": [],
   "source": [
    "selected_shrimp = 'Banana prawn'"
   ]
  },
  {
   "cell_type": "markdown",
   "metadata": {},
   "source": [
    "Create and print a sentence containing both the `selected_shrimp` and the corresponding scientific name retrieved from the `shrimps` dictionary:"
   ]
  },
  {
   "cell_type": "code",
   "execution_count": 28,
   "metadata": {},
   "outputs": [
    {
     "name": "stdout",
     "output_type": "stream",
     "text": [
      "I selected the Banana prawn whos scientific name is: Fenneropenaeus merguiensis \n"
     ]
    }
   ],
   "source": [
    "sentence = 'I selected the ' + selected_shrimp + ' whos scientific name is: '+ shrimps[selected_shrimp]\n",
    "print(sentence)"
   ]
  },
  {
   "cell_type": "markdown",
   "metadata": {},
   "source": [
    "***"
   ]
  },
  {
   "cell_type": "markdown",
   "metadata": {},
   "source": [
    "# Section 4"
   ]
  },
  {
   "cell_type": "markdown",
   "metadata": {},
   "source": [
    "Print a meaningful warning for temperature values that are:\n",
    "* Less than 10.0 degrees Celsius, and\n",
    "* Equal or greater than 24.5 degrees Celsius:"
   ]
  },
  {
   "cell_type": "code",
   "execution_count": 30,
   "metadata": {},
   "outputs": [
    {
     "name": "stdout",
     "output_type": "stream",
     "text": [
      "The current temp of 9.2C is below 10 degrees Celsius\n",
      "The current temp of 24.5C is greater or equal to 24.5 degrees Celsius\n",
      "The current temp of 25.3C is greater or equal to 24.5 degrees Celsius\n"
     ]
    }
   ],
   "source": [
    "temp_list = [15.6, 10.1, 10.0, 9.2, 15.4, 13.7, 24.5, 25.3]\n",
    "\n",
    "for t in temp_list:\n",
    "    if t < 10:\n",
    "        print('The current temp of ' + str(t) + 'C is below 10 degrees Celsius')\n",
    "    elif t>= 24.5:\n",
    "        print('The current temp of ' + str(t) + 'C is greater or equal to 24.5 degrees Celsius')"
   ]
  },
  {
   "cell_type": "markdown",
   "metadata": {},
   "source": [
    "***"
   ]
  },
  {
   "cell_type": "markdown",
   "metadata": {},
   "source": [
    "# Section 5"
   ]
  },
  {
   "cell_type": "markdown",
   "metadata": {},
   "source": [
    "Populate and print a `section_metadata` dictionary containing the following two keys:\n",
    "* Your \"first_name\", and\n",
    "* Your \"email\":"
   ]
  },
  {
   "cell_type": "code",
   "execution_count": 43,
   "metadata": {},
   "outputs": [],
   "source": [
    "section_metadata = {'first_name': 'Semme', 'email': 'semmed@ccom.unh.edu'}"
   ]
  },
  {
   "cell_type": "markdown",
   "metadata": {},
   "source": [
    "Create a sentence containing all the values in `section_metadata` and assign it to the `section_sentence` variable. Then print `section_sentence`:"
   ]
  },
  {
   "cell_type": "code",
   "execution_count": 45,
   "metadata": {},
   "outputs": [
    {
     "name": "stdout",
     "output_type": "stream",
     "text": [
      "My name is Semme and my email address is: semmed@ccom.unh.edu\n"
     ]
    }
   ],
   "source": [
    "section_sentence = 'My name is ' + \\\n",
    "    section_metadata['first_name'] + \\\n",
    "    ' and my email address is: ' + section_metadata['email']\n",
    "\n",
    "print( section_sentence)"
   ]
  },
  {
   "cell_type": "markdown",
   "metadata": {},
   "source": [
    "***"
   ]
  },
  {
   "cell_type": "markdown",
   "metadata": {},
   "source": [
    "# Section 6"
   ]
  },
  {
   "cell_type": "markdown",
   "metadata": {},
   "source": [
    "Create a `ConductivityData` class with the following two class attributes:\n",
    "* A `values` list for the conductivity data.\n",
    "* A `metadata` dictionary."
   ]
  },
  {
   "cell_type": "code",
   "execution_count": 46,
   "metadata": {},
   "outputs": [],
   "source": [
    "class ConductivityData():\n",
    "    values = []\n",
    "    metadata = {}\n"
   ]
  },
  {
   "cell_type": "markdown",
   "metadata": {},
   "source": [
    "Create a `conductivity` instance of `ConductivityData`, then print its empty list of values:"
   ]
  },
  {
   "cell_type": "code",
   "execution_count": 49,
   "metadata": {},
   "outputs": [
    {
     "name": "stdout",
     "output_type": "stream",
     "text": [
      "[]\n"
     ]
    }
   ],
   "source": [
    "conductivity = ConductivityData()\n",
    "print( conductivity.values)"
   ]
  },
  {
   "cell_type": "markdown",
   "metadata": {},
   "source": [
    "Populate the `values` of `conductivity` with the following values: 38.09, 39.06, 38.61, 38.40, then print the `values`:"
   ]
  },
  {
   "cell_type": "code",
   "execution_count": 51,
   "metadata": {},
   "outputs": [
    {
     "name": "stdout",
     "output_type": "stream",
     "text": [
      "[38.09, 39.06, 38.61, 38.4]\n"
     ]
    }
   ],
   "source": [
    "conductivity.values = [38.09, 39.06, 38.61, 38.40]\n",
    "print( conductivity.values)"
   ]
  },
  {
   "cell_type": "markdown",
   "metadata": {},
   "source": [
    "Populate and print the `metadata` of `conductivity` with:\n",
    "- `\"collection_time\"`: August 23, 2019 at 10:03 pm,\n",
    "- `\"uom\"` (unit of measure): mS/cm."
   ]
  },
  {
   "cell_type": "code",
   "execution_count": 62,
   "metadata": {},
   "outputs": [
    {
     "name": "stdout",
     "output_type": "stream",
     "text": [
      "{'collection_time': datetime.datetime(2019, 8, 23, 22, 3), 'uom': 'mS/cm'}\n"
     ]
    }
   ],
   "source": [
    "from datetime import datetime\n",
    "\n",
    "conductivity.metadata['collection_time'] = datetime.strptime(\n",
    "    'August 23, 2019 10:03 pm', '%B %d, %Y %I:%M %p')\n",
    "conductivity.metadata['uom'] = 'mS/cm'\n",
    "\n",
    "print(conductivity.metadata)"
   ]
  },
  {
   "cell_type": "markdown",
   "metadata": {},
   "source": [
    "***"
   ]
  },
  {
   "cell_type": "markdown",
   "metadata": {},
   "source": [
    "# Section 7"
   ]
  },
  {
   "cell_type": "markdown",
   "metadata": {},
   "source": [
    "Write a `from_ft_to_m` function that convert a value from [feet to meters](https://en.wikipedia.org/wiki/Foot_(unit)):"
   ]
  },
  {
   "cell_type": "code",
   "execution_count": 63,
   "metadata": {},
   "outputs": [],
   "source": [
    "def from_ft_to_m(feet_value):\n",
    "    return 0.3048 * feet_value"
   ]
  },
  {
   "cell_type": "markdown",
   "metadata": {},
   "source": [
    "Use the `from_ft_to_m` function to print in meters the values in feet stored in the `depth_list`:"
   ]
  },
  {
   "cell_type": "code",
   "execution_count": 66,
   "metadata": {},
   "outputs": [
    {
     "name": "stdout",
     "output_type": "stream",
     "text": [
      "0.0\n",
      "0.9144000000000001\n",
      "3.048\n",
      "6.096\n",
      "30.48\n",
      "46.664880000000004\n"
     ]
    }
   ],
   "source": [
    "depth_list = [0.0, 3.0, 10.0, 20.0, 100.0, 153.1] # feet\n",
    "\n",
    "for d in depth_list:\n",
    "    print( from_ft_to_m( d))"
   ]
  },
  {
   "cell_type": "markdown",
   "metadata": {},
   "source": [
    "***"
   ]
  },
  {
   "cell_type": "markdown",
   "metadata": {},
   "source": [
    "# Section 8"
   ]
  },
  {
   "cell_type": "markdown",
   "metadata": {},
   "source": [
    "The `temp_path` variable points to a file containing temperature values.\n",
    "How many temperature values stored in the file are equal or less than 11.3 degrees Celsius? Print the answer:"
   ]
  },
  {
   "cell_type": "code",
   "execution_count": 79,
   "metadata": {},
   "outputs": [
    {
     "name": "stdout",
     "output_type": "stream",
     "text": [
      "2 out of the 10 in the list 'temp_vals' are <= 11.3 degrees Celsius\n"
     ]
    }
   ],
   "source": [
    "import os\n",
    "temp_path = os.path.abspath(os.path.join(os.path.curdir, \"data\", \"temp.txt\"))\n",
    "\n",
    "temp_file = open(temp_path)\n",
    "temp_contents = temp_file.read()\n",
    "temp_vals = temp_contents.splitlines()\n",
    "\n",
    "n = 0\n",
    "for t in temp_vals:\n",
    "    if float(t) <= 11.3:\n",
    "        n += 1\n",
    "        \n",
    "print ( str(n) + ' out of the ' + str(len(temp_vals)) + ' in the list \\'temp_vals\\' are <= 11.3 degrees Celsius'  )"
   ]
  },
  {
   "cell_type": "markdown",
   "metadata": {},
   "source": [
    "***"
   ]
  },
  {
   "cell_type": "markdown",
   "metadata": {},
   "source": [
    "# Section 9"
   ]
  },
  {
   "cell_type": "markdown",
   "metadata": {},
   "source": [
    "Add a note in the \"Python Basic\" Channel on [Teams](https://teams.microsoft.com/l/channel/19%3ab42c4a650a5a4b55a3f6241cf5942d08%40thread.tacv2/Python%2520Basics?groupId=e05e4f0f-c653-4060-854e-6a776126d431&tenantId=d6241893-512d-46dc-8d2b-be47e25f5666) suggesting an useful exercise to be added to the \"Programming Basics with Python\" notebooks ."
   ]
  },
  {
   "cell_type": "markdown",
   "metadata": {},
   "source": [
    "***"
   ]
  },
  {
   "cell_type": "markdown",
   "metadata": {},
   "source": [
    "<img align=\"left\" width=\"5%\" style=\"padding-right:10px;\" src=\"images/email.png\">\n",
    "\n",
    "*For issues or suggestions related to this notebook, write to: epom@ccom.unh.edu*"
   ]
  }
 ],
 "metadata": {
  "kernelspec": {
   "display_name": "Python 3 (ipykernel)",
   "language": "python",
   "name": "python3"
  },
  "language_info": {
   "codemirror_mode": {
    "name": "ipython",
    "version": 3
   },
   "file_extension": ".py",
   "mimetype": "text/x-python",
   "name": "python",
   "nbconvert_exporter": "python",
   "pygments_lexer": "ipython3",
   "version": "3.9.7"
  }
 },
 "nbformat": 4,
 "nbformat_minor": 2
}
