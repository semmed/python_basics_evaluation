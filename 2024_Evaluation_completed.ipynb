{
 "cells": [
  {
   "cell_type": "markdown",
   "metadata": {},
   "source": [
    "<a href=\"https://www.hydroffice.org/epom/\"><img src=\"images/000_000_epom_logo.png\" alt=\"ePOM\" title=\"Open ePOM home page\" align=\"center\" width=\"12%\" alt=\"Python logo\\\"></a>"
   ]
  },
  {
   "cell_type": "markdown",
   "metadata": {},
   "source": [
    "# Programming Basic with Python - Evaluation"
   ]
  },
  {
   "cell_type": "markdown",
   "metadata": {},
   "source": [
    "* This notebook is organized in several sections. \n",
    "\n",
    "* The code cells among different sections are independent, thus you do not need to complete all the cells in a section before moving to the next one.\n",
    "\n",
    "* You must work on your own. \n",
    "  * You are not allowed to interact with the other classmates. \n",
    "  * If you need clarifications about an exercise, ask the instructors.\n",
    "\n",
    "* You are allowed to access the [Programming Basics with Python](../python_basics/index.ipynb) notebooks that you completed during the past weeks."
   ]
  },
  {
   "cell_type": "markdown",
   "metadata": {},
   "source": [
    "---"
   ]
  },
  {
   "cell_type": "markdown",
   "metadata": {},
   "source": [
    "# Section 0"
   ]
  },
  {
   "cell_type": "markdown",
   "metadata": {},
   "source": [
    "You are taking this exam as part of the course ESCI 872, which has the name \"Tools for Ocean Mapping\".\n",
    "\n",
    "Create and print a `course_name` variable containing the name of this course and print the course\n",
    "Also print the `type` of `course_name`, and verify that it is `<class 'str'>`\n",
    "\n",
    "Make sure that you do not hard code the type output i.e., that if `course` is a float that the output will reflect this \n"
   ]
  },
  {
   "cell_type": "code",
   "execution_count": 2,
   "metadata": {},
   "outputs": [
    {
     "name": "stdout",
     "output_type": "stream",
     "text": [
      "Tools for Ocean Mapping\n",
      "Tools for Ocean Mapping is of type: <class 'str'>\n"
     ]
    }
   ],
   "source": [
    "course_name = 'Tools for Ocean Mapping'\n",
    "print(course_name)\n",
    "print(course_name + ' is of type: ' + str(type(course_name)))"
   ]
  },
  {
   "cell_type": "markdown",
   "metadata": {},
   "source": [
    "Create and print a `dept` variable containing the 4 letter acronym of the name of the department through which this course is offered and print it.\n",
    "\n",
    "Also print the `type` of `dept`, and verify that it is `<class 'str'>`"
   ]
  },
  {
   "cell_type": "code",
   "execution_count": 3,
   "metadata": {},
   "outputs": [
    {
     "name": "stdout",
     "output_type": "stream",
     "text": [
      "ESCI\n",
      "ESCI is of type: <class 'str'>\n"
     ]
    }
   ],
   "source": [
    "dept = 'ESCI'\n",
    "print(dept)\n",
    "print(dept + ' is of type: ' + str(type(dept)))"
   ]
  },
  {
   "cell_type": "markdown",
   "metadata": {},
   "source": [
    "Create and print a `course_nr` variable containing the number of this course and print it, make sure that `course_nr` is of type `<class 'int'>`"
   ]
  },
  {
   "cell_type": "code",
   "execution_count": 4,
   "metadata": {},
   "outputs": [
    {
     "name": "stdout",
     "output_type": "stream",
     "text": [
      "872\n",
      "872 is of type: <class 'int'>\n"
     ]
    }
   ],
   "source": [
    "course_nr = 872\n",
    "print(course_nr)\n",
    "print(str(course_nr) + ' is of type: ' + str(type(course_nr)))"
   ]
  },
  {
   "cell_type": "markdown",
   "metadata": {},
   "source": [
    "Assign the length of `course_name` to a `course_name_length` variable, then print the resulting value:"
   ]
  },
  {
   "cell_type": "code",
   "execution_count": 5,
   "metadata": {},
   "outputs": [
    {
     "name": "stdout",
     "output_type": "stream",
     "text": [
      "23\n"
     ]
    }
   ],
   "source": [
    "course_name_length = len(course_name)\n",
    "print(course_name_length)"
   ]
  },
  {
   "cell_type": "markdown",
   "metadata": {},
   "source": [
    "Use `course_name`, `dept`, `course_nr`, `course_name_length` to create a full sentence of your choice, and store it in the `sentence`. Then print the value of `sentence`:"
   ]
  },
  {
   "cell_type": "code",
   "execution_count": 6,
   "metadata": {},
   "outputs": [
    {
     "name": "stdout",
     "output_type": "stream",
     "text": [
      "The name of course ESCI 872 is Tools for Ocean Mapping; the name contains 23 characters.\n"
     ]
    }
   ],
   "source": [
    "sentence = 'The name of course ' + dept + ' ' + str(course_nr) + ' is ' + course_name + \\\n",
    "    '; the name contains ' + str(course_name_length) + ' characters.'\n",
    "print(sentence)"
   ]
  },
  {
   "cell_type": "markdown",
   "metadata": {},
   "source": [
    "Retrieve and print the type of the `sentence` variable:"
   ]
  },
  {
   "cell_type": "code",
   "execution_count": 7,
   "metadata": {},
   "outputs": [
    {
     "name": "stdout",
     "output_type": "stream",
     "text": [
      "<class 'str'>\n"
     ]
    }
   ],
   "source": [
    "print(type(sentence))"
   ]
  },
  {
   "cell_type": "markdown",
   "metadata": {},
   "source": [
    "***"
   ]
  },
  {
   "cell_type": "markdown",
   "metadata": {},
   "source": [
    "# Section 1"
   ]
  },
  {
   "cell_type": "markdown",
   "metadata": {},
   "source": [
    "Create two variables (`v0` and `v1`) with values `3.53` and `5`: "
   ]
  },
  {
   "cell_type": "code",
   "execution_count": 8,
   "metadata": {},
   "outputs": [],
   "source": [
    "v0 = 3.53\n",
    "v1 = 5"
   ]
  },
  {
   "cell_type": "markdown",
   "metadata": {},
   "source": [
    "Store the result of the division of `v0` by `v1` in a variable named `v01_div`, then print the resulting value with an accuracy of two decimal numbers:"
   ]
  },
  {
   "cell_type": "code",
   "execution_count": 9,
   "metadata": {},
   "outputs": [
    {
     "name": "stdout",
     "output_type": "stream",
     "text": [
      "0.71\n"
     ]
    }
   ],
   "source": [
    "v01_div = v0 / v1\n",
    "print('%.2f'%v01_div)"
   ]
  },
  {
   "cell_type": "markdown",
   "metadata": {},
   "source": [
    "Retrieve and print the types of the `v0`, `v1`, and `v01_div` variables:"
   ]
  },
  {
   "cell_type": "code",
   "execution_count": 10,
   "metadata": {},
   "outputs": [
    {
     "name": "stdout",
     "output_type": "stream",
     "text": [
      "v0 is an <class 'float'>\n",
      "v1 is an <class 'int'>\n",
      "v01_div is an <class 'float'>\n"
     ]
    }
   ],
   "source": [
    "print('v0 is an %s'%type(v0))\n",
    "print('v1 is an %s'%type(v1))\n",
    "print('v01_div is an %s'%type(v01_div))\n"
   ]
  },
  {
   "cell_type": "markdown",
   "metadata": {},
   "source": [
    "***"
   ]
  },
  {
   "cell_type": "markdown",
   "metadata": {},
   "source": [
    "# Section 2"
   ]
  },
  {
   "cell_type": "markdown",
   "metadata": {},
   "source": [
    "Create and print a `corals_in_florida` list with the common name of the [the *currently* most commonly found hard coral species](https://myfwc.com/research/habitat/coral/news-information/what-are-corals/) found in Florida (as listed in the last paragraph of the page):"
   ]
  },
  {
   "cell_type": "code",
   "execution_count": 11,
   "metadata": {},
   "outputs": [],
   "source": [
    "corals_in_florida = ['Boulder Star', 'Great Star', 'Massive Starlet', 'Mustard Hill', 'Grooved Brain']"
   ]
  },
  {
   "cell_type": "markdown",
   "metadata": {},
   "source": [
    "Print the number of species in the `corals_in_florida` list:"
   ]
  },
  {
   "cell_type": "code",
   "execution_count": 12,
   "metadata": {},
   "outputs": [
    {
     "name": "stdout",
     "output_type": "stream",
     "text": [
      "5\n"
     ]
    }
   ],
   "source": [
    "print(len(corals_in_florida))"
   ]
  },
  {
   "cell_type": "markdown",
   "metadata": {},
   "source": [
    "Count how many species of coral have `\"star\"` as a component of the common name: "
   ]
  },
  {
   "cell_type": "code",
   "execution_count": 13,
   "metadata": {},
   "outputs": [
    {
     "name": "stdout",
     "output_type": "stream",
     "text": [
      "1\n"
     ]
    }
   ],
   "source": [
    "n = 0\n",
    "for coral in corals_in_florida:\n",
    "    if 'star' in coral:\n",
    "        n += 1\n",
    "print(n)"
   ]
  },
  {
   "cell_type": "markdown",
   "metadata": {},
   "source": [
    "Count how many species of coral have `\"Star\"` as a component of the common name: "
   ]
  },
  {
   "cell_type": "code",
   "execution_count": 14,
   "metadata": {},
   "outputs": [
    {
     "name": "stdout",
     "output_type": "stream",
     "text": [
      "3\n"
     ]
    }
   ],
   "source": [
    "n = 0\n",
    "for coral in corals_in_florida:\n",
    "    if 'Star' in coral:\n",
    "        n += 1\n",
    "print(n)"
   ]
  },
  {
   "cell_type": "markdown",
   "metadata": {},
   "source": [
    "***"
   ]
  },
  {
   "cell_type": "markdown",
   "metadata": {},
   "source": [
    "# Section 3"
   ]
  },
  {
   "cell_type": "markdown",
   "metadata": {},
   "source": [
    "Create and print a `corals` dictionary with common name (as keys) and scientific name (as values) for the corals contained in the list `corals_in_florida`"
   ]
  },
  {
   "cell_type": "code",
   "execution_count": 15,
   "metadata": {},
   "outputs": [],
   "source": [
    "corals = {}\n",
    "corals['Boulder Star'] = 'Montastrea annularis'\n",
    "corals['Great Star'] = 'Montastrea cavernosa'\n",
    "corals['Massive Starlet'] = 'Siderastrea siderea'\n",
    "corals['Mustard Hill'] = 'Porites astroides'\n",
    "corals['Grooved Brain'] = 'Colpophyllia natans'"
   ]
  },
  {
   "cell_type": "markdown",
   "metadata": {},
   "source": [
    "Create a `selected_coral` variable with the common name of a coral of your choice:"
   ]
  },
  {
   "cell_type": "code",
   "execution_count": 16,
   "metadata": {},
   "outputs": [],
   "source": [
    "selected_coral = 'Massive Starlet'"
   ]
  },
  {
   "cell_type": "markdown",
   "metadata": {},
   "source": [
    "Create and print a sentence explaining why you chose the `selected_coral` and store it in `coral_sentence`. Make sure the corresponding scientific name retrieved from the `corals` dictionary is contained in the sentence. Also make sure that if you change the value of `selected_coral` that the value of `coral_sentence` is  updated correspondingly."
   ]
  },
  {
   "cell_type": "code",
   "execution_count": 17,
   "metadata": {},
   "outputs": [
    {
     "name": "stdout",
     "output_type": "stream",
     "text": [
      "I selected the 'Massive Starlet' coral whos scientific name is: 'Siderastrea siderea' because I like the name.\n"
     ]
    }
   ],
   "source": [
    "coral_sentence = 'I selected the \\'' + selected_coral + '\\' coral whos scientific name is: \\''+ corals[selected_coral] + '\\' because I like the name.'\n",
    "print(coral_sentence)"
   ]
  },
  {
   "cell_type": "markdown",
   "metadata": {},
   "source": [
    "***"
   ]
  },
  {
   "cell_type": "markdown",
   "metadata": {},
   "source": [
    "# Section 4"
   ]
  },
  {
   "cell_type": "markdown",
   "metadata": {},
   "source": [
    "Print a meaningful warning for temperature values that are:\n",
    "* Less than 10.0 degrees Celsius, and\n",
    "* Equal or greater than 24.5 degrees Celsius:"
   ]
  },
  {
   "cell_type": "code",
   "execution_count": 18,
   "metadata": {},
   "outputs": [
    {
     "name": "stdout",
     "output_type": "stream",
     "text": [
      "The current temp of 9.2C is below 10 degrees Celsius\n",
      "The current temp of 24.5C is greater or equal to 24.5 degrees Celsius\n",
      "The current temp of 25.3C is greater or equal to 24.5 degrees Celsius\n"
     ]
    }
   ],
   "source": [
    "temp_list = [15.6, 10.1, 10.0, 9.2, 15.4, 13.7, 24.5, 25.3]\n",
    "\n",
    "for t in temp_list:\n",
    "    if t < 10:\n",
    "        print('The current temp of ' + str(t) + 'C is below 10 degrees Celsius')\n",
    "    elif t>= 24.5:\n",
    "        print('The current temp of ' + str(t) + 'C is greater or equal to 24.5 degrees Celsius')"
   ]
  },
  {
   "cell_type": "markdown",
   "metadata": {},
   "source": [
    "***"
   ]
  },
  {
   "cell_type": "markdown",
   "metadata": {},
   "source": [
    "# Section 5"
   ]
  },
  {
   "cell_type": "markdown",
   "metadata": {},
   "source": [
    "Populate and print a `section_metadata` dictionary containing the following two keys:\n",
    "* Your \"last_name\", and\n",
    "* Your \"email\":"
   ]
  },
  {
   "cell_type": "code",
   "execution_count": 19,
   "metadata": {},
   "outputs": [],
   "source": [
    "section_metadata = {'last_name': 'Dijkstra', 'email': 'semmed@ccom.unh.edu'}"
   ]
  },
  {
   "cell_type": "markdown",
   "metadata": {},
   "source": [
    "Create a sentence containing all the values in `section_metadata` and assign it to the `section_sentence` variable. Then print `section_sentence`:"
   ]
  },
  {
   "cell_type": "code",
   "execution_count": 20,
   "metadata": {},
   "outputs": [
    {
     "name": "stdout",
     "output_type": "stream",
     "text": [
      "My name is Dijkstra and my email address is: semmed@ccom.unh.edu\n"
     ]
    }
   ],
   "source": [
    "section_sentence = 'My name is ' + \\\n",
    "    section_metadata['last_name'] + \\\n",
    "    ' and my email address is: ' + section_metadata['email']\n",
    "\n",
    "print( section_sentence)"
   ]
  },
  {
   "cell_type": "markdown",
   "metadata": {},
   "source": [
    "***"
   ]
  },
  {
   "cell_type": "markdown",
   "metadata": {},
   "source": [
    "# Section 6"
   ]
  },
  {
   "cell_type": "markdown",
   "metadata": {},
   "source": [
    "Create a `ConductivityData` class with the following two class attributes:\n",
    "* A `values` list for the conductivity data.\n",
    "* A `metadata` dictionary."
   ]
  },
  {
   "cell_type": "code",
   "execution_count": 22,
   "metadata": {},
   "outputs": [],
   "source": [
    "class ConductivityData():\n",
    "    \"\"\"A Class for holding water conductivity data\"\"\"\n",
    "    \n",
    "    def __init__(self):\n",
    "        self.values = []\n",
    "        self.metadata = {}\n"
   ]
  },
  {
   "cell_type": "markdown",
   "metadata": {},
   "source": [
    "Create a `conductivity` instance of `ConductivityData`, then print its empty list of values:"
   ]
  },
  {
   "cell_type": "code",
   "execution_count": 23,
   "metadata": {},
   "outputs": [
    {
     "name": "stdout",
     "output_type": "stream",
     "text": [
      "<class '__main__.ConductivityData'>\n",
      "[]\n"
     ]
    }
   ],
   "source": [
    "conductivity = ConductivityData()\n",
    "print(type(conductivity))\n",
    "print( conductivity.values)"
   ]
  },
  {
   "cell_type": "markdown",
   "metadata": {},
   "source": [
    "Populate the `values` of `conductivity` with the following values: 38.09, 39.06, 38.61, 38.40, then print the `values`:"
   ]
  },
  {
   "cell_type": "code",
   "execution_count": 24,
   "metadata": {},
   "outputs": [
    {
     "name": "stdout",
     "output_type": "stream",
     "text": [
      "[38.09, 39.06, 38.61, 38.4]\n"
     ]
    }
   ],
   "source": [
    "conductivity.values = [38.09, 39.06, 38.61, 38.40]\n",
    "print( conductivity.values)"
   ]
  },
  {
   "cell_type": "markdown",
   "metadata": {},
   "source": [
    "Populate and print the `metadata` of `conductivity` with:\n",
    "- `\"collection_time\"`: August 23, 2019 10:03 pm,\n",
    "- `\"uom\"` (unit of measure): mS/cm.\n",
    "\n",
    "Make sure to use the datetime.strptime() method to directly convert the `string` 'August 23, 2019 10:03 pm' into a `datetime` object"
   ]
  },
  {
   "cell_type": "code",
   "execution_count": 25,
   "metadata": {},
   "outputs": [
    {
     "name": "stdout",
     "output_type": "stream",
     "text": [
      "{'collection_time': datetime.datetime(2019, 8, 23, 22, 3), 'uom': 'mS/cm'}\n"
     ]
    }
   ],
   "source": [
    "from datetime import datetime\n",
    "\n",
    "conductivity.metadata['collection_time'] = datetime.strptime(\n",
    "    'August 23, 2019 10:03 pm', '%B %d, %Y %I:%M %p')\n",
    "conductivity.metadata['uom'] = 'mS/cm'\n",
    "\n",
    "print(conductivity.metadata)"
   ]
  },
  {
   "cell_type": "markdown",
   "metadata": {},
   "source": [
    "***"
   ]
  },
  {
   "cell_type": "markdown",
   "metadata": {},
   "source": [
    "# Section 7"
   ]
  },
  {
   "cell_type": "markdown",
   "metadata": {},
   "source": [
    "Write a `from_m_to_ft` function that convert a value from [meters to feet](https://en.wikipedia.org/wiki/Foot_(unit)):"
   ]
  },
  {
   "cell_type": "code",
   "execution_count": 26,
   "metadata": {},
   "outputs": [],
   "source": [
    "def from_ft_to_m(meter_value):\n",
    "    return meter_value / 0.3048"
   ]
  },
  {
   "cell_type": "markdown",
   "metadata": {},
   "source": [
    "Use the `from_m_to_ft` function to print in feet the values in meters stored in the `depth_list`:"
   ]
  },
  {
   "cell_type": "code",
   "execution_count": 27,
   "metadata": {},
   "outputs": [
    {
     "name": "stdout",
     "output_type": "stream",
     "text": [
      "0.0\n",
      "9.84251968503937\n",
      "32.808398950131235\n",
      "65.61679790026247\n",
      "328.0839895013123\n",
      "502.2965879265091\n"
     ]
    }
   ],
   "source": [
    "depth_list = [0.0, 3.0, 10.0, 20.0, 100.0, 153.1]\n",
    "\n",
    "for d in depth_list:\n",
    "    print( from_ft_to_m( d))"
   ]
  },
  {
   "cell_type": "markdown",
   "metadata": {},
   "source": [
    "Are the data in the `depth_list` really meaningful? Consider how the user of this code can understand what the numbers represent\n",
    "\n",
    "Create a `depth_list_metadata` dictionary, with at least two keys that allow the user to understand the meaning of the numbers in `depth_list`. Make sure that the appropriate values are assigned to the contents of `depth_list_metadata`."
   ]
  },
  {
   "cell_type": "code",
   "execution_count": 28,
   "metadata": {},
   "outputs": [],
   "source": [
    "depth_list_metadata = {}\n",
    "depth_list_metadata['uom'] = 'meters'\n",
    "depth_list_metadata['datum'] = 'mean sea level'"
   ]
  },
  {
   "cell_type": "markdown",
   "metadata": {},
   "source": [
    "Note that this would be a good place to use a class with attributes `depth_list` and `depth_list_metadata`, this intrinsically links the two variables. "
   ]
  },
  {
   "cell_type": "markdown",
   "metadata": {},
   "source": [
    "***"
   ]
  },
  {
   "cell_type": "markdown",
   "metadata": {},
   "source": [
    "# Section 8"
   ]
  },
  {
   "cell_type": "markdown",
   "metadata": {},
   "source": [
    "The `temp_path` variable points to a file containing temperature values.\n",
    "How many temperature values stored in the file are greater than 11.3 degrees Celsius? Print the answer:"
   ]
  },
  {
   "cell_type": "code",
   "execution_count": 29,
   "metadata": {},
   "outputs": [
    {
     "name": "stdout",
     "output_type": "stream",
     "text": [
      "8 out of the 10 temperatures in the list 'temp_vals' are > 11.3 degrees Celsius\n"
     ]
    }
   ],
   "source": [
    "import os\n",
    "temp_path = os.path.abspath(os.path.join(os.path.curdir, \"data\", \"temp.txt\"))\n",
    "\n",
    "temp_file = open(temp_path)\n",
    "temp_contents = temp_file.read()\n",
    "temp_vals = temp_contents.splitlines()\n",
    "\n",
    "n = 0\n",
    "for t in temp_vals:\n",
    "    if float(t) > 11.3:\n",
    "        n += 1\n",
    "        \n",
    "print ( str(n) + ' out of the ' + str(len(temp_vals)) + ' temperatures in the list \\'temp_vals\\' are > 11.3 degrees Celsius'  )"
   ]
  },
  {
   "cell_type": "markdown",
   "metadata": {},
   "source": [
    "***"
   ]
  },
  {
   "cell_type": "markdown",
   "metadata": {},
   "source": [
    "# Section 9"
   ]
  },
  {
   "cell_type": "markdown",
   "metadata": {},
   "source": [
    "Add a note in the \"Python Basic\" Channel on [Teams](https://teams.microsoft.com/l/channel/19%3a9f6fa4890a3d46d3934aae4e3ef779f5%40thread.tacv2/Python%2520Basics?groupId=4f3c3c67-92bb-4a67-a425-db5d67ee6503&tenantId=d6241893-512d-46dc-8d2b-be47e25f5666) suggesting an useful exercise to be added to the \"Programming Basics with Python\" notebooks ."
   ]
  },
  {
   "cell_type": "markdown",
   "metadata": {},
   "source": [
    "***"
   ]
  },
  {
   "cell_type": "markdown",
   "metadata": {},
   "source": [
    "<img align=\"left\" width=\"5%\" style=\"padding-right:10px;\" src=\"images/email.png\">\n",
    "\n",
    "*For issues or suggestions related to this notebook, write to: epom@ccom.unh.edu*"
   ]
  }
 ],
 "metadata": {
  "kernelspec": {
   "display_name": "Python 3 (ipykernel)",
   "language": "python",
   "name": "python3"
  },
  "language_info": {
   "codemirror_mode": {
    "name": "ipython",
    "version": 3
   },
   "file_extension": ".py",
   "mimetype": "text/x-python",
   "name": "python",
   "nbconvert_exporter": "python",
   "pygments_lexer": "ipython3",
   "version": "3.9.7"
  }
 },
 "nbformat": 4,
 "nbformat_minor": 2
}
